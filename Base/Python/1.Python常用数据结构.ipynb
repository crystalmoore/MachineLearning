{
 "cells": [
  {
   "cell_type": "markdown",
   "metadata": {},
   "source": [
    "元组 列表\n",
    "-----------\n",
    "叫做`tuple`，用小括号、或者无括号来表述，是一连串**有顺序**的数字。"
   ]
  },
  {
   "cell_type": "code",
   "execution_count": 1,
   "metadata": {},
   "outputs": [],
   "source": [
    "a_tuple = (12, 3, 5, 15 , 6)\n",
    "another_tuple = 12, 3, 5, 15 , 6"
   ]
  },
  {
   "cell_type": "markdown",
   "metadata": {},
   "source": [
    "List \n",
    "----------------\n",
    "而list是以中括号来命名的:"
   ]
  },
  {
   "cell_type": "code",
   "execution_count": 2,
   "metadata": {},
   "outputs": [],
   "source": [
    "a_list = [12, 3, 67, 7, 82]"
   ]
  },
  {
   "cell_type": "markdown",
   "metadata": {},
   "source": [
    "两者对比\n",
    "--------\n",
    "他们的元素可以一个一个地被迭代、输出、运用、定位取值:"
   ]
  },
  {
   "cell_type": "code",
   "execution_count": 4,
   "metadata": {},
   "outputs": [
    {
     "name": "stdout",
     "output_type": "stream",
     "text": [
      "12\n",
      "3\n",
      "67\n",
      "7\n",
      "82\n"
     ]
    }
   ],
   "source": [
    "for content in a_list:\n",
    "    print(content)"
   ]
  },
  {
   "cell_type": "code",
   "execution_count": 5,
   "metadata": {},
   "outputs": [
    {
     "name": "stdout",
     "output_type": "stream",
     "text": [
      "12\n",
      "3\n",
      "5\n",
      "15\n",
      "6\n"
     ]
    }
   ],
   "source": [
    "for content_tuple in a_tuple:\n",
    "    print(content_tuple)"
   ]
  },
  {
   "cell_type": "markdown",
   "metadata": {},
   "source": [
    "下一个例子，依次输出`a_tuple`和`a_list`中的各个元素："
   ]
  },
  {
   "cell_type": "code",
   "execution_count": 6,
   "metadata": {},
   "outputs": [
    {
     "name": "stdout",
     "output_type": "stream",
     "text": [
      "index =  0 , number in list =  12\n",
      "index =  1 , number in list =  3\n",
      "index =  2 , number in list =  67\n",
      "index =  3 , number in list =  7\n",
      "index =  4 , number in list =  82\n"
     ]
    }
   ],
   "source": [
    "for index in range(len(a_list)):\n",
    "    print(\"index = \", index, \", number in list = \", a_list[index])"
   ]
  },
  {
   "cell_type": "code",
   "execution_count": 7,
   "metadata": {},
   "outputs": [
    {
     "name": "stdout",
     "output_type": "stream",
     "text": [
      "index =  0 , number in tuple =  12\n",
      "index =  1 , number in tuple =  3\n",
      "index =  2 , number in tuple =  5\n",
      "index =  3 , number in tuple =  15\n",
      "index =  4 , number in tuple =  6\n"
     ]
    }
   ],
   "source": [
    "for index in range(len(a_tuple)):\n",
    "    print(\"index = \", index, \", number in tuple = \", a_tuple[index])"
   ]
  },
  {
   "cell_type": "markdown",
   "metadata": {},
   "source": [
    "list 列表\n",
    "------------"
   ]
  },
  {
   "cell_type": "markdown",
   "metadata": {},
   "source": [
    "List 添加\n",
    "--------------------------\n",
    "列表是一系列有序的数列，有一系列自带的功能， 例如："
   ]
  },
  {
   "cell_type": "code",
   "execution_count": 8,
   "metadata": {},
   "outputs": [
    {
     "name": "stdout",
     "output_type": "stream",
     "text": [
      "[1, 2, 3, 4, 1, 1, -1, 0]\n"
     ]
    }
   ],
   "source": [
    "a = [1,2,3,4,1,1,-1]\n",
    "a.append(0)  # 在a的最后面追加一个0\n",
    "print(a)"
   ]
  },
  {
   "cell_type": "code",
   "execution_count": 10,
   "metadata": {},
   "outputs": [
    {
     "name": "stdout",
     "output_type": "stream",
     "text": [
      "[1, 2, 3, 4, 1, 1, -1, 0]\n"
     ]
    }
   ],
   "source": [
    "a = [1,2,3,4,1,1,-1]\n",
    "a.append(0)  # 在a的最后面追加一个0\n",
    "print(a)\n",
    "# [1, 2, 3, 4, 1, 1, -1, 0]"
   ]
  },
  {
   "cell_type": "markdown",
   "metadata": {},
   "source": [
    "在指定的地方添加项："
   ]
  },
  {
   "cell_type": "code",
   "execution_count": 11,
   "metadata": {},
   "outputs": [
    {
     "name": "stdout",
     "output_type": "stream",
     "text": [
      "[1, 0, 2, 3, 4, 1, 1, -1]\n"
     ]
    }
   ],
   "source": [
    "a = [1,2,3,4,1,1,-1]\n",
    "a.insert(1,0) # 在位置1处添加0\n",
    "print(a)"
   ]
  },
  {
   "cell_type": "markdown",
   "metadata": {},
   "source": [
    "List 移除\n",
    "-----------\n",
    "删除项："
   ]
  },
  {
   "cell_type": "code",
   "execution_count": 12,
   "metadata": {},
   "outputs": [
    {
     "name": "stdout",
     "output_type": "stream",
     "text": [
      "[1, 3, 4, 1, 1, -1]\n"
     ]
    }
   ],
   "source": [
    "a = [1,2,3,4,1,1,-1]\n",
    "a.remove(2) # 删除列表中第一个出现的值为2的项\n",
    "print(a)"
   ]
  },
  {
   "cell_type": "markdown",
   "metadata": {},
   "source": [
    "List 索引\n",
    "-----------\n",
    "显示特定位："
   ]
  },
  {
   "cell_type": "code",
   "execution_count": 13,
   "metadata": {},
   "outputs": [
    {
     "name": "stdout",
     "output_type": "stream",
     "text": [
      "1\n"
     ]
    }
   ],
   "source": [
    "a = [1,2,3,4,1,1,-1]\n",
    "print(a[0])  # 显示列表a的第0位的值"
   ]
  },
  {
   "cell_type": "code",
   "execution_count": 14,
   "metadata": {},
   "outputs": [
    {
     "name": "stdout",
     "output_type": "stream",
     "text": [
      "-1\n"
     ]
    }
   ],
   "source": [
    "print(a[-1]) # 显示列表a的最末位的值"
   ]
  },
  {
   "cell_type": "code",
   "execution_count": 15,
   "metadata": {},
   "outputs": [
    {
     "name": "stdout",
     "output_type": "stream",
     "text": [
      "[1, 2, 3]\n"
     ]
    }
   ],
   "source": [
    "print(a[0:3]) # 显示列表a的从第0位 到 第2位(第3位之前) 的所有项的值"
   ]
  },
  {
   "cell_type": "code",
   "execution_count": 16,
   "metadata": {},
   "outputs": [
    {
     "name": "stdout",
     "output_type": "stream",
     "text": [
      "[1, -1]\n"
     ]
    }
   ],
   "source": [
    "print(a[5:])  # 显示列表a的第5位及以后的所有项的值"
   ]
  },
  {
   "cell_type": "code",
   "execution_count": 17,
   "metadata": {},
   "outputs": [
    {
     "name": "stdout",
     "output_type": "stream",
     "text": [
      "[1, 1, -1]\n"
     ]
    }
   ],
   "source": [
    "print(a[-3:]) # 显示列表a的倒数第3位及以后的所有项的值"
   ]
  },
  {
   "cell_type": "markdown",
   "metadata": {},
   "source": [
    "打印列表中的某个值的索引(index):"
   ]
  },
  {
   "cell_type": "code",
   "execution_count": 18,
   "metadata": {},
   "outputs": [
    {
     "name": "stdout",
     "output_type": "stream",
     "text": [
      "1\n"
     ]
    }
   ],
   "source": [
    "a = [1,2,3,4,1,1,-1]\n",
    "print(a.index(2)) # 显示列表a中第一次出现的值为2的项的索引"
   ]
  },
  {
   "cell_type": "markdown",
   "metadata": {},
   "source": [
    "统计列表中某值出现的次数："
   ]
  },
  {
   "cell_type": "code",
   "execution_count": 19,
   "metadata": {},
   "outputs": [
    {
     "name": "stdout",
     "output_type": "stream",
     "text": [
      "1\n"
     ]
    }
   ],
   "source": [
    "a = [4,1,2,3,4,1,1,-1]\n",
    "print(a.count(-1))"
   ]
  },
  {
   "cell_type": "markdown",
   "metadata": {},
   "source": [
    "List 排序 \n",
    "----------\n",
    "对列表的项排序："
   ]
  },
  {
   "cell_type": "code",
   "execution_count": 20,
   "metadata": {},
   "outputs": [
    {
     "name": "stdout",
     "output_type": "stream",
     "text": [
      "[-1, 1, 1, 1, 2, 3, 4, 4]\n"
     ]
    }
   ],
   "source": [
    "a = [4,1,2,3,4,1,1,-1]\n",
    "a.sort() # 默认从小到大排序\n",
    "print(a)"
   ]
  },
  {
   "cell_type": "code",
   "execution_count": 21,
   "metadata": {},
   "outputs": [
    {
     "name": "stdout",
     "output_type": "stream",
     "text": [
      "[4, 4, 3, 2, 1, 1, 1, -1]\n"
     ]
    }
   ],
   "source": [
    "a.sort(reverse=True) # 从大到小排序\n",
    "print(a)\n",
    "# [4, 4, 3, 2, 1, 1, 1, -1]"
   ]
  },
  {
   "cell_type": "markdown",
   "metadata": {},
   "source": [
    "# 多维列表"
   ]
  },
  {
   "cell_type": "markdown",
   "metadata": {},
   "source": [
    "创建二维列表 \n",
    "-----------------\n",
    "一个一维的List是线性的List，多维List是一个平面的List："
   ]
  },
  {
   "cell_type": "code",
   "execution_count": 22,
   "metadata": {},
   "outputs": [],
   "source": [
    "a = [1,2,3,4,5] # 一行五列\n",
    "multi_dim_a = [[1,2,3],\n",
    "               [2,3,4],\n",
    "               [3,4,5]] # 三行三列"
   ]
  },
  {
   "cell_type": "markdown",
   "metadata": {},
   "source": [
    "索引 \n",
    "--------\n",
    "在上面定义的List中进行搜索："
   ]
  },
  {
   "cell_type": "code",
   "execution_count": 23,
   "metadata": {},
   "outputs": [
    {
     "name": "stdout",
     "output_type": "stream",
     "text": [
      "2\n",
      "2\n"
     ]
    }
   ],
   "source": [
    "print(a[1])\n",
    "# 2\n",
    "\n",
    "print(multi_dim_a[0][1])\n",
    "# 2"
   ]
  },
  {
   "cell_type": "markdown",
   "metadata": {},
   "source": [
    "用行数和列数来定位list中的值。这里用的是二维的列表，但可以有更多的维度。"
   ]
  },
  {
   "cell_type": "markdown",
   "metadata": {},
   "source": [
    "dictionary 字典\n",
    "--------------------"
   ]
  },
  {
   "cell_type": "markdown",
   "metadata": {},
   "source": [
    "创建字典 \n",
    "---------\n",
    "如果说`List`是有顺序地输出输入的话，那么字典的存档形式则是无需顺序的， 我们来看一个例子：\n",
    "\n",
    "在字典中，有`key`和`value`两种元素，每一个`key`对应一个`value`, `key`是名字, `value`是内容。数字和字符串都可以当做`key`或者`value`， 在同一个字典中, 并不需要所有的`key`或`value`有相同的形式。 这样说, `List`可以说是一种`key`为有序数列的字典。"
   ]
  },
  {
   "cell_type": "code",
   "execution_count": 28,
   "metadata": {},
   "outputs": [],
   "source": [
    "a_list = [1,2,3,4,5,6,7,8]\n",
    "\n",
    "d1 = {'apple':1, 'pear':2, 'orange':3}\n",
    "d2 = {1:'a', 2:'b', 3:'c'}\n",
    "d3 = {1:'a', 'b':2, 'c':3}"
   ]
  },
  {
   "cell_type": "code",
   "execution_count": 29,
   "metadata": {},
   "outputs": [
    {
     "name": "stdout",
     "output_type": "stream",
     "text": [
      "1\n",
      "1\n",
      "{'apple': 1, 'orange': 3}\n",
      "{'apple': 1, 'orange': 3, 'b': 20}\n"
     ]
    }
   ],
   "source": [
    "print(d1['apple'])  # 1\n",
    "print(a_list[0])    # 1\n",
    "\n",
    "del d1['pear']\n",
    "print(d1)   # {'orange': 3, 'apple': 1}\n",
    "\n",
    "d1['b'] = 20\n",
    "print(d1)   # {'orange': 3, 'b': 20, 'pear': 2, 'apple': 1}"
   ]
  },
  {
   "cell_type": "markdown",
   "metadata": {},
   "source": [
    "字典存储类型 \n",
    "---------------\n",
    "以上的例子可以对列表中的元素进行增减。在打印出整个列表时，可以发现各个元素并没有按规律打印出来，进一步验证了字典是一个无序的容器。"
   ]
  },
  {
   "cell_type": "code",
   "execution_count": 30,
   "metadata": {},
   "outputs": [
    {
     "name": "stdout",
     "output_type": "stream",
     "text": [
      "a\n"
     ]
    }
   ],
   "source": [
    "def func():\n",
    "    return 0\n",
    "\n",
    "d4 = {'apple':[1,2,3], 'pear':{1:3, 3:'a'}, 'orange':func}\n",
    "print(d4['pear'][3])    # a"
   ]
  },
  {
   "cell_type": "markdown",
   "metadata": {},
   "source": [
    "字典还可以以更多样的形式出现，例如字典的元素可以是一个List，或者再是一个列表，再或者是一个`function`。索引需要的项目时，只需要正确指定对应的`key`就可以了。"
   ]
  },
  {
   "cell_type": "markdown",
   "metadata": {},
   "source": [
    "Python - list, tuple, dict, set的区别\n",
    "----------------------------------\n",
    "参考链接：https://blog.csdn.net/caroline_wendy/article/details/23370907"
   ]
  },
  {
   "cell_type": "markdown",
   "metadata": {},
   "source": [
    "定义:\n",
    "\n",
    "* list:链表,有序的项目, 通过索引进行查找,使用方括号”[]”;\n",
    "\n",
    "* tuple:元组,元组将多样的对象集合到一起,不能修改,通过索引进行查找, 使用括号”()”; tuple定义是一串有顺序的数字；\n",
    "\n",
    "* dict:字典,字典是一组键(key)和值(value)的组合,通过键(key)进行查找,没有顺序, 使用大括号”{}”;\n",
    "\n",
    "* set:集合,无序,元素只出现一次, 自动去重,使用”set([])”"
   ]
  },
  {
   "cell_type": "markdown",
   "metadata": {},
   "source": [
    "应用场景:\n",
    "\n",
    "* list, 简单的数据集合,可以使用索引;\n",
    "\n",
    "* tuple, 把一些数据当做一个整体去使用,不能修改;\n",
    "\n",
    "* dict,使用键值和值进行关联的数据;\n",
    "\n",
    "* set,数据只出现一次,只关心数据是否出现, 不关心其位置;"
   ]
  },
  {
   "cell_type": "code",
   "execution_count": 31,
   "metadata": {},
   "outputs": [
    {
     "name": "stdout",
     "output_type": "stream",
     "text": [
      "[1, 2, 3, 4, 'Oh']\n",
      "(1, 2, 'Hello', (4, 5))\n",
      "{'Wang': 1, 'Hu': 2, 'Liu': 4}\n",
      "{'Hu', 'Wang', 4, 'Liu'}\n"
     ]
    }
   ],
   "source": [
    "mylist = [1, 2, 3, 4, 'Oh']\n",
    "mytuple = (1, 2, 'Hello', (4, 5))\n",
    "mydict = {'Wang' : 1, 'Hu' : 2, 'Liu' : 4}\n",
    "myset = set(['Wang', 'Hu', 'Liu', 4, 'Wang'])\n",
    " \n",
    "print(mylist)\n",
    "print(mytuple)\n",
    "print(mydict)\n",
    "print(myset)"
   ]
  }
 ],
 "metadata": {
  "kernelspec": {
   "display_name": "Python 3",
   "language": "python",
   "name": "python3"
  },
  "language_info": {
   "codemirror_mode": {
    "name": "ipython",
    "version": 3
   },
   "file_extension": ".py",
   "mimetype": "text/x-python",
   "name": "python",
   "nbconvert_exporter": "python",
   "pygments_lexer": "ipython3",
   "version": "3.6.5"
  }
 },
 "nbformat": 4,
 "nbformat_minor": 2
}

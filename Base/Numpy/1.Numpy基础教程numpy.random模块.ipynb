{
 "cells": [
  {
   "cell_type": "markdown",
   "metadata": {},
   "source": [
    "1.Python中 copy, deepcopy 的区别及原因\n",
    "-----------------------------------\n",
    "\n",
    "参考链接：https://iaman.actor/blog/2016/04/17/copy-in-python"
   ]
  },
  {
   "cell_type": "markdown",
   "metadata": {},
   "source": [
    "Python 的 copy 模块中的 copy() method 其实是与 deep copy 相对的 shallow copy。copy.copy(object) 就等于是对 object 做了 shallow copy。\n",
    "\n",
    "* 对于简单的object，用shallow copy和deep copy没区别:"
   ]
  },
  {
   "cell_type": "code",
   "execution_count": 1,
   "metadata": {},
   "outputs": [
    {
     "name": "stdout",
     "output_type": "stream",
     "text": [
      "2\n",
      "1\n",
      "1\n",
      "True\n",
      "True\n"
     ]
    }
   ],
   "source": [
    "import copy\n",
    "\n",
    "origin = 1\n",
    "cop1 = copy.copy(origin)\n",
    "cop2 = copy.deepcopy(origin)\n",
    "origin = 2\n",
    "print(origin)\n",
    "print(cop1)\n",
    "print(cop2)\n",
    "#cop1 和 cop2 都不会随着 origin 改变自己的值\n",
    "print(cop1 == cop2)\n",
    "print(cop1 is cop2)"
   ]
  },
  {
   "cell_type": "markdown",
   "metadata": {},
   "source": [
    "* 复杂的object，如list中套着list的情况，shallow copy中的子list，并未从原object真的「独立」出来。\n",
    "\n",
    "也就是说，如果你改变原 object 的子 list 中的一个元素，你的 copy 就会跟着一起变。这跟我们直觉上对「复制」的理解不同。"
   ]
  },
  {
   "cell_type": "code",
   "execution_count": 2,
   "metadata": {},
   "outputs": [
    {
     "name": "stdout",
     "output_type": "stream",
     "text": [
      "True\n",
      "False\n"
     ]
    }
   ],
   "source": [
    "origin = [1, 2, [3, 4]]\n",
    "#origin 里边有三个元素：1， 2，[3, 4]\n",
    "cop1 = copy.copy(origin)\n",
    "cop2 = copy.deepcopy(origin)\n",
    "print(cop1 == cop2)\n",
    "print(cop1 is cop2)"
   ]
  },
  {
   "cell_type": "code",
   "execution_count": 3,
   "metadata": {},
   "outputs": [
    {
     "data": {
      "text/plain": [
       "[1, 2, ['key!', 4]]"
      ]
     },
     "execution_count": 3,
     "metadata": {},
     "output_type": "execute_result"
    }
   ],
   "source": [
    "origin[2][0] = \"key!\"\n",
    "origin"
   ]
  },
  {
   "cell_type": "code",
   "execution_count": 4,
   "metadata": {},
   "outputs": [
    {
     "data": {
      "text/plain": [
       "[1, 2, ['key!', 4]]"
      ]
     },
     "execution_count": 4,
     "metadata": {},
     "output_type": "execute_result"
    }
   ],
   "source": [
    "# 可以看到cop1，也就是shallow copy跟着origin改变了。\n",
    "cop1"
   ]
  },
  {
   "cell_type": "code",
   "execution_count": 5,
   "metadata": {},
   "outputs": [
    {
     "data": {
      "text/plain": [
       "[1, 2, [3, 4]]"
      ]
     },
     "execution_count": 5,
     "metadata": {},
     "output_type": "execute_result"
    }
   ],
   "source": [
    "# 而cop2，也就是 deep copy 并没有变。\n",
    "cop2"
   ]
  },
  {
   "cell_type": "markdown",
   "metadata": {},
   "source": [
    "* 似乎 deep copy 更加符合我们对「复制」的直觉定义: 一旦复制出来了，就应该是独立的了。如果我们想要的是一个字面意义的「copy」，那就直接用 deep_copy 即可。"
   ]
  },
  {
   "cell_type": "markdown",
   "metadata": {},
   "source": [
    "2.Numpy中random模块\n",
    "------------------------------------"
   ]
  },
  {
   "cell_type": "markdown",
   "metadata": {},
   "source": [
    "2.1 randint用法\n",
    "-----------------------"
   ]
  },
  {
   "cell_type": "code",
   "execution_count": 7,
   "metadata": {},
   "outputs": [
    {
     "data": {
      "text/plain": [
       "0"
      ]
     },
     "execution_count": 7,
     "metadata": {},
     "output_type": "execute_result"
    }
   ],
   "source": [
    "import numpy as np\n",
    "pact = np.random.randint(3)\n",
    "pact"
   ]
  },
  {
   "cell_type": "markdown",
   "metadata": {},
   "source": [
    "2.2 numpy.random.randn()用法\n",
    "------------------------------\n",
    "参考资料：https://blog.csdn.net/u012149181/article/details/78913167\n",
    "\n",
    "numpy.random.rand(d0,d1,…,dn)\n",
    "* rand函数根据给定维度生成[0,1)之间的数据，包含0，不包含1\n",
    "* dn表格每个维度\n",
    "* 返回值为指定维度的array"
   ]
  },
  {
   "cell_type": "code",
   "execution_count": 8,
   "metadata": {},
   "outputs": [
    {
     "data": {
      "text/plain": [
       "0.6919750647407069"
      ]
     },
     "execution_count": 8,
     "metadata": {},
     "output_type": "execute_result"
    }
   ],
   "source": [
    "# 默认为1\n",
    "np.random.rand()"
   ]
  },
  {
   "cell_type": "code",
   "execution_count": 9,
   "metadata": {},
   "outputs": [
    {
     "data": {
      "text/plain": [
       "array([[0.62004829, 0.79216503],\n",
       "       [0.87915653, 0.20048038],\n",
       "       [0.05545771, 0.36665215],\n",
       "       [0.13891378, 0.72844213]])"
      ]
     },
     "execution_count": 9,
     "metadata": {},
     "output_type": "execute_result"
    }
   ],
   "source": [
    "np.random.rand(4,2)"
   ]
  },
  {
   "cell_type": "code",
   "execution_count": 10,
   "metadata": {},
   "outputs": [
    {
     "data": {
      "text/plain": [
       "array([[[0.90270884, 0.42183535],\n",
       "        [0.20989792, 0.96037623],\n",
       "        [0.74883241, 0.09403585]],\n",
       "\n",
       "       [[0.44358378, 0.23728944],\n",
       "        [0.4164707 , 0.00405981],\n",
       "        [0.20775486, 0.03861572]],\n",
       "\n",
       "       [[0.85445611, 0.18073666],\n",
       "        [0.45110635, 0.97149011],\n",
       "        [0.38449769, 0.73254881]],\n",
       "\n",
       "       [[0.33341161, 0.92838165],\n",
       "        [0.65107586, 0.75502876],\n",
       "        [0.89980264, 0.9673063 ]]])"
      ]
     },
     "execution_count": 10,
     "metadata": {},
     "output_type": "execute_result"
    }
   ],
   "source": [
    "np.random.rand(4,3,2) # shape: 4*3*2"
   ]
  },
  {
   "cell_type": "markdown",
   "metadata": {},
   "source": [
    "2.3 numpy.random.randn()\n",
    "-----------------------------\n",
    "\n",
    "numpy.random.randn(d0,d1,…,dn)\n",
    "\n",
    "* randn函数返回一个或一组样本，具有标准正态分布。\n",
    "* dn表格每个维度\n",
    "* 返回值为指定维度的array\n",
    "\n",
    "### 标准正态分布介绍\n",
    "\n",
    "* 标准正态分布—-standard normal distribution\n",
    "* 标准正态分布又称为u分布，是以0为均值、以1为标准差的正态分布，记为N（0，1）。"
   ]
  },
  {
   "cell_type": "code",
   "execution_count": 11,
   "metadata": {},
   "outputs": [
    {
     "data": {
      "text/plain": [
       "-0.6224122577805592"
      ]
     },
     "execution_count": 11,
     "metadata": {},
     "output_type": "execute_result"
    }
   ],
   "source": [
    "np.random.randn() # 当没有参数时，返回单个数据"
   ]
  },
  {
   "cell_type": "code",
   "execution_count": 12,
   "metadata": {},
   "outputs": [
    {
     "data": {
      "text/plain": [
       "array([[-0.4764618 , -1.04419602, -0.45465733, -0.30609242],\n",
       "       [ 0.04493374,  0.05797635,  0.58231442,  1.78774517]])"
      ]
     },
     "execution_count": 12,
     "metadata": {},
     "output_type": "execute_result"
    }
   ],
   "source": [
    "np.random.randn(2,4)"
   ]
  },
  {
   "cell_type": "code",
   "execution_count": 13,
   "metadata": {},
   "outputs": [
    {
     "data": {
      "text/plain": [
       "array([[[-0.46742296,  0.99846852],\n",
       "        [-0.14194394,  1.68703126],\n",
       "        [-1.8244719 , -0.19907507]],\n",
       "\n",
       "       [[-1.76740272, -1.81445106],\n",
       "        [-1.36233662, -1.31708152],\n",
       "        [ 0.56111711,  0.45146996]],\n",
       "\n",
       "       [[-1.28032424, -0.84990671],\n",
       "        [-0.15982417,  1.1888378 ],\n",
       "        [-0.20539579,  0.85418602]],\n",
       "\n",
       "       [[ 0.16330537, -1.64851441],\n",
       "        [-1.04031596,  0.07329011],\n",
       "        [ 1.33111313, -0.26899331]]])"
      ]
     },
     "execution_count": 13,
     "metadata": {},
     "output_type": "execute_result"
    }
   ],
   "source": [
    "np.random.randn(4,3,2)"
   ]
  },
  {
   "cell_type": "markdown",
   "metadata": {},
   "source": [
    "2.4 numpy.random.randint()\n",
    "-------------------------------\n",
    "numpy.random.randint(low, high=None, size=None, dtype=’l’)\n",
    "\n",
    "* 返回随机整数，范围区间为[low,high），包含low，不包含high\n",
    "* 参数：low为最小值，high为最大值，size为数组维度大小，dtype为数据类型，默认的数据类型是np.int\n",
    "* high没有填写时，默认生成随机数的范围是[0，low)"
   ]
  },
  {
   "cell_type": "code",
   "execution_count": 14,
   "metadata": {},
   "outputs": [
    {
     "data": {
      "text/plain": [
       "array([0, 0, 0, 0, 0])"
      ]
     },
     "execution_count": 14,
     "metadata": {},
     "output_type": "execute_result"
    }
   ],
   "source": [
    "# 下面指定了为size\n",
    "np.random.randint(1,size=5) # 返回[0,1)之间的整数，所以只有0"
   ]
  },
  {
   "cell_type": "code",
   "execution_count": 15,
   "metadata": {},
   "outputs": [
    {
     "data": {
      "text/plain": [
       "2"
      ]
     },
     "execution_count": 15,
     "metadata": {},
     "output_type": "execute_result"
    }
   ],
   "source": [
    "# 下面指定了low与high\n",
    "np.random.randint(1,5) # 返回1个[1,5)时间的随机整数"
   ]
  },
  {
   "cell_type": "code",
   "execution_count": 16,
   "metadata": {},
   "outputs": [
    {
     "data": {
      "text/plain": [
       "array([[-2, -1],\n",
       "       [-5,  0]])"
      ]
     },
     "execution_count": 16,
     "metadata": {},
     "output_type": "execute_result"
    }
   ],
   "source": [
    "np.random.randint(-5,5,size=(2,2))"
   ]
  },
  {
   "cell_type": "markdown",
   "metadata": {},
   "source": [
    "2.5 numpy.random.random_integers\n",
    "-------------------------------------\n",
    "numpy.random.random_integers(low, high=None, size=None)\n",
    "\n",
    "* 返回随机整数，范围区间为[low,high]，包含low和high\n",
    "* 参数：low为最小值，high为最大值，size为数组维度大小\n",
    "* high没有填写时，默认生成随机数的范围是[1，low]\n",
    "\n",
    "\n",
    "该函数在最新的numpy版本中已被替代，建议使用** randint **函数"
   ]
  },
  {
   "cell_type": "code",
   "execution_count": 18,
   "metadata": {},
   "outputs": [
    {
     "name": "stderr",
     "output_type": "stream",
     "text": [
      "D:\\Anaconda\\lib\\site-packages\\ipykernel_launcher.py:1: DeprecationWarning: This function is deprecated. Please call randint(1, 1 + 1) instead\n",
      "  \"\"\"Entry point for launching an IPython kernel.\n"
     ]
    },
    {
     "data": {
      "text/plain": [
       "array([0, 0, 0, 0, 0])"
      ]
     },
     "execution_count": 18,
     "metadata": {},
     "output_type": "execute_result"
    }
   ],
   "source": [
    "np.random.random_integers(1,size=5)\n",
    "np.random.randint(1,size=5)"
   ]
  },
  {
   "cell_type": "markdown",
   "metadata": {},
   "source": [
    "2.6 生成[0,1)之间的浮点数\n",
    "---------------------------------------\n",
    "\n",
    "* numpy.random.random_sample(size=None)\n",
    "* numpy.random.random(size=None)\n",
    "* numpy.random.ranf(size=None)\n",
    "* numpy.random.sample(size=None)"
   ]
  },
  {
   "cell_type": "code",
   "execution_count": 19,
   "metadata": {},
   "outputs": [
    {
     "name": "stdout",
     "output_type": "stream",
     "text": [
      "-----------random_sample--------------\n",
      "[[0.12004985 0.53756097]\n",
      " [0.46279992 0.631226  ]]\n",
      "-----------random--------------\n",
      "[[0.20588875 0.30619765]\n",
      " [0.4719633  0.92701338]]\n",
      "-----------ranf--------------\n",
      "[[0.68391441 0.48519121]\n",
      " [0.89043706 0.85149536]]\n",
      "-----------sample--------------\n",
      "[[0.29774079 0.456007  ]\n",
      " [0.88863084 0.27216937]]\n"
     ]
    }
   ],
   "source": [
    "print('-----------random_sample--------------')\n",
    "print(np.random.random_sample(size=(2,2)))\n",
    "print('-----------random--------------')\n",
    "print(np.random.random(size=(2,2)))\n",
    "print('-----------ranf--------------')\n",
    "print(np.random.ranf(size=(2,2)))\n",
    "print('-----------sample--------------')\n",
    "print(np.random.sample(size=(2,2)))"
   ]
  },
  {
   "cell_type": "markdown",
   "metadata": {},
   "source": [
    "2.7 numpy.random.choice()\n",
    "--------------------------\n",
    "\n",
    "numpy.random.choice(a, size=None, replace=True, p=None)\n",
    "\n",
    "* 从给定的一维数组中生成随机数\n",
    "* 参数： a为一维数组类似数据或整数；size为数组维度；p为数组中的数据出现的概率\n",
    "* a为整数时，对应的一维数组为np.arange(a)"
   ]
  },
  {
   "cell_type": "code",
   "execution_count": 20,
   "metadata": {},
   "outputs": [
    {
     "data": {
      "text/plain": [
       "array([4, 3, 0])"
      ]
     },
     "execution_count": 20,
     "metadata": {},
     "output_type": "execute_result"
    }
   ],
   "source": [
    "np.random.choice(5,3)"
   ]
  },
  {
   "cell_type": "code",
   "execution_count": 21,
   "metadata": {},
   "outputs": [
    {
     "data": {
      "text/plain": [
       "array([4, 1, 2])"
      ]
     },
     "execution_count": 21,
     "metadata": {},
     "output_type": "execute_result"
    }
   ],
   "source": [
    "np.random.choice(5, 3, replace=False)\n",
    "# 当replace为False时，生成的随机数不能有重复的数值"
   ]
  },
  {
   "cell_type": "code",
   "execution_count": 22,
   "metadata": {},
   "outputs": [
    {
     "data": {
      "text/plain": [
       "array([[3, 0],\n",
       "       [2, 2],\n",
       "       [0, 2]])"
      ]
     },
     "execution_count": 22,
     "metadata": {},
     "output_type": "execute_result"
    }
   ],
   "source": [
    "np.random.choice(5,size=(3,2))"
   ]
  },
  {
   "cell_type": "code",
   "execution_count": 23,
   "metadata": {},
   "outputs": [
    {
     "data": {
      "text/plain": [
       "array([['xiaomi', 'lenovo', 'iphone'],\n",
       "       ['lenovo', 'iphone', 'xiaomi'],\n",
       "       ['xiaomi', 'sansumg', 'lenovo']], dtype='<U7')"
      ]
     },
     "execution_count": 23,
     "metadata": {},
     "output_type": "execute_result"
    }
   ],
   "source": [
    "demo_list = ['lenovo', 'sansumg','moto','xiaomi', 'iphone']\n",
    "np.random.choice(demo_list,size=(3,3))"
   ]
  },
  {
   "cell_type": "markdown",
   "metadata": {},
   "source": [
    "* 参数p的长度与参数a的长度需要一致；\n",
    "* 参数p为概率，p里的数据之和应为1；"
   ]
  },
  {
   "cell_type": "code",
   "execution_count": 25,
   "metadata": {},
   "outputs": [
    {
     "data": {
      "text/plain": [
       "array([['sansumg', 'sansumg', 'sansumg'],\n",
       "       ['iphone', 'sansumg', 'sansumg'],\n",
       "       ['sansumg', 'sansumg', 'sansumg']], dtype='<U7')"
      ]
     },
     "execution_count": 25,
     "metadata": {},
     "output_type": "execute_result"
    }
   ],
   "source": [
    "demo_list = ['lenovo', 'sansumg','moto','xiaomi', 'iphone']\n",
    "np.random.choice(demo_list,size=(3,3), p=[0.1,0.6,0.1,0.1,0.1])"
   ]
  },
  {
   "cell_type": "markdown",
   "metadata": {},
   "source": [
    "2.8 numpy.random.seed()\n",
    "------------------------------\n",
    "* np.random.seed()的作用：使得随机数据可预测。\n",
    "* 当我们设置相同的seed，每次生成的随机数相同。**如果不设置seed，则每次会生成不同的随机数**。"
   ]
  },
  {
   "cell_type": "code",
   "execution_count": 26,
   "metadata": {},
   "outputs": [
    {
     "data": {
      "text/plain": [
       "array([0.5488135 , 0.71518937, 0.60276338, 0.54488318, 0.4236548 ])"
      ]
     },
     "execution_count": 26,
     "metadata": {},
     "output_type": "execute_result"
    }
   ],
   "source": [
    "np.random.seed(0)\n",
    "np.random.rand(5)"
   ]
  },
  {
   "cell_type": "code",
   "execution_count": 27,
   "metadata": {},
   "outputs": [
    {
     "data": {
      "text/plain": [
       "array([0.39983389, 0.29426895, 0.89541728, 0.71807369, 0.3531823 ])"
      ]
     },
     "execution_count": 27,
     "metadata": {},
     "output_type": "execute_result"
    }
   ],
   "source": [
    "np.random.seed(1676)\n",
    "np.random.rand(5)"
   ]
  },
  {
   "cell_type": "code",
   "execution_count": 29,
   "metadata": {},
   "outputs": [
    {
     "data": {
      "text/plain": [
       "array([0.39983389, 0.29426895, 0.89541728, 0.71807369, 0.3531823 ])"
      ]
     },
     "execution_count": 29,
     "metadata": {},
     "output_type": "execute_result"
    }
   ],
   "source": [
    "np.random.seed(1676)\n",
    "np.random.rand(5)"
   ]
  }
 ],
 "metadata": {
  "kernelspec": {
   "display_name": "Python 3",
   "language": "python",
   "name": "python3"
  },
  "language_info": {
   "codemirror_mode": {
    "name": "ipython",
    "version": 3
   },
   "file_extension": ".py",
   "mimetype": "text/x-python",
   "name": "python",
   "nbconvert_exporter": "python",
   "pygments_lexer": "ipython3",
   "version": "3.6.5"
  }
 },
 "nbformat": 4,
 "nbformat_minor": 2
}
